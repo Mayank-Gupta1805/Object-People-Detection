{
 "cells": [
  {
   "cell_type": "code",
   "execution_count": 1,
   "metadata": {},
   "outputs": [],
   "source": [
    "import os, cv2\n",
    "\n",
    "import numpy as np\n",
    "import pandas as pd\n",
    "\n",
    "from utils import crop"
   ]
  },
  {
   "cell_type": "code",
   "execution_count": 2,
   "metadata": {},
   "outputs": [],
   "source": [
    "images = np.load(\"./Dataset/images.npy\")\n",
    "output_file = 'output_video.mp4'"
   ]
  },
  {
   "cell_type": "code",
   "execution_count": 3,
   "metadata": {},
   "outputs": [],
   "source": [
    "FRAME_RATE = 30\n",
    "COUNT, HEIGHT, WIDTH, CHANNEL = images.shape"
   ]
  },
  {
   "cell_type": "code",
   "execution_count": 4,
   "metadata": {},
   "outputs": [],
   "source": [
    "fourcc = cv2.VideoWriter_fourcc(*'mp4v')\n",
    "video_writer = cv2.VideoWriter(output_file, fourcc, FRAME_RATE, (WIDTH, HEIGHT))"
   ]
  },
  {
   "cell_type": "code",
   "execution_count": 5,
   "metadata": {},
   "outputs": [],
   "source": [
    "hog = cv2.HOGDescriptor()\n",
    "hog.setSVMDetector(cv2.HOGDescriptor_getDefaultPeopleDetector())\n",
    "\n",
    "def detect_human(image):\n",
    "    (rects, weights) = hog.detectMultiScale(image, winStride=(4, 4))\n",
    "    return rects\n",
    "\n",
    "def get_all_people_bounds(image):\n",
    "    all_rects = []\n",
    "    rects = detect_human(image)\n",
    "    all_rects.extend(rects)\n",
    "    if len(rects) == 0:\n",
    "        return []\n",
    "\n",
    "    for (x, y, w, h) in rects:\n",
    "        rect_img = crop(image, y, y+h, x, x+w)\n",
    "        rects_img = get_all_people_bounds(rect_img)\n",
    "        all_rects.extend(rects_img)\n",
    "\n",
    "    return all_rects    \n",
    "\n",
    "def get_people_count(image):\n",
    "    out_image = image.copy()\n",
    "    rects = get_all_people_bounds(image)\n",
    "    count = len(rects)\n",
    "    updated_rects = np.array([[x, y, x + w, y + h] for (x, y, w, h) in rects])\n",
    "    for (xA, yA, xB, yB) in updated_rects:\n",
    "        cv2.rectangle(out_image, (xA, yA), (xB, yB), (0, 255, 0), 2)\n",
    "\n",
    "    cv2.putText(out_image, f\"Total People in frame : {count}\", (0, image.shape[0] - 20), cv2.FONT_HERSHEY_SIMPLEX, 1, (255, 0, 0), 2)\n",
    "    return count, out_image    "
   ]
  },
  {
   "cell_type": "code",
   "execution_count": 6,
   "metadata": {},
   "outputs": [],
   "source": [
    "indices = []\n",
    "people_counts = []\n",
    "\n",
    "for index, image in enumerate(images):\n",
    "    count, out_image = get_people_count(image)\n",
    "    indices.append(index + 1)\n",
    "    people_counts.append(count)\n",
    "\n",
    "    video_writer.write(out_image)\n",
    "\n",
    "video_writer.release()"
   ]
  },
  {
   "cell_type": "code",
   "execution_count": null,
   "metadata": {},
   "outputs": [],
   "source": [
    "output_df = pd.DataFrame({\"Indices\": indices, \"Count\": people_counts})\n",
    "output_df.head()"
   ]
  },
  {
   "cell_type": "code",
   "execution_count": null,
   "metadata": {},
   "outputs": [],
   "source": [
    "output_df.to_csv(\"My_results.csv\")"
   ]
  },
  {
   "cell_type": "code",
   "execution_count": null,
   "metadata": {},
   "outputs": [],
   "source": []
  }
 ],
 "metadata": {
  "kernelspec": {
   "display_name": "base",
   "language": "python",
   "name": "python3"
  },
  "language_info": {
   "codemirror_mode": {
    "name": "ipython",
    "version": 3
   },
   "file_extension": ".py",
   "mimetype": "text/x-python",
   "name": "python",
   "nbconvert_exporter": "python",
   "pygments_lexer": "ipython3",
   "version": "3.9.12"
  },
  "orig_nbformat": 4
 },
 "nbformat": 4,
 "nbformat_minor": 2
}
